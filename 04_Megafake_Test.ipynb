{
 "cells": [
  {
   "cell_type": "markdown",
   "id": "820bf859",
   "metadata": {},
   "source": [
    "### In this script we test our Multi-Task BERT-base model on the Megafake dataset. ###"
   ]
  },
  {
   "cell_type": "code",
   "execution_count": 1,
   "id": "d9a1fa8a",
   "metadata": {},
   "outputs": [
    {
     "name": "stderr",
     "output_type": "stream",
     "text": [
      "c:\\Users\\makri\\.conda\\envs\\tf\\lib\\site-packages\\tqdm\\auto.py:21: TqdmWarning: IProgress not found. Please update jupyter and ipywidgets. See https://ipywidgets.readthedocs.io/en/stable/user_install.html\n",
      "  from .autonotebook import tqdm as notebook_tqdm\n",
      "c:\\Users\\makri\\.conda\\envs\\tf\\lib\\site-packages\\transformers\\utils\\generic.py:441: FutureWarning: `torch.utils._pytree._register_pytree_node` is deprecated. Please use `torch.utils._pytree.register_pytree_node` instead.\n",
      "  _torch_pytree._register_pytree_node(\n"
     ]
    }
   ],
   "source": [
    "import tensorflow as tf\n",
    "import tensorflow_hub as hub\n",
    "import tensorflow_text as text\n",
    "import numpy as np\n",
    "import matplotlib.pyplot as plt\n",
    "from tensorflow.keras import mixed_precision\n",
    "from sklearn.metrics import confusion_matrix, classification_report \n",
    "from transformers import BertTokenizer\n",
    "import pandas as pd\n",
    "import zipfile\n",
    "import os \n",
    "from sklearn.model_selection import train_test_split\n",
    "from imblearn.over_sampling import SMOTE\n",
    "from sklearn.utils import resample\n",
    "\n"
   ]
  },
  {
   "cell_type": "code",
   "execution_count": 2,
   "id": "41645e91",
   "metadata": {},
   "outputs": [],
   "source": [
    "# Reading Megafake\n",
    "\n",
    "with zipfile.ZipFile('megafake_test_df.csv.zip','r') as zip:\n",
    "    with zip.open('megafake_test_df.csv') as f:\n",
    "        megafake_test = pd.read_csv(f,encoding='ISO-8859-1')\n",
    "\n",
    "with zipfile.ZipFile('megafake_train_df.csv.zip','r') as zip:\n",
    "    with zip.open('megafake_train_df.csv') as f:\n",
    "        megafake_train = pd.read_csv(f,encoding='ISO-8859-1')"
   ]
  },
  {
   "cell_type": "code",
   "execution_count": 3,
   "id": "8a27d6b7",
   "metadata": {},
   "outputs": [
    {
     "name": "stdout",
     "output_type": "stream",
     "text": [
      "Memory growth enabled for PhysicalDevice(name='/physical_device:GPU:0', device_type='GPU')\n"
     ]
    }
   ],
   "source": [
    "gpus = tf.config.experimental.list_physical_devices('GPU')\n",
    "\n",
    "if gpus:\n",
    "    try:\n",
    "        # Enable memory growth for the first (and only) GPU\n",
    "        tf.config.experimental.set_memory_growth(gpus[0], True)\n",
    "        print(f\"Memory growth enabled for {gpus[0]}\")\n",
    "    except RuntimeError as e:\n",
    "        print(e)  # This happens if GPUs are initialized before setting memory growth\n",
    "else:\n",
    "    print(\"No GPU found. Running on CPU.\")"
   ]
  },
  {
   "cell_type": "code",
   "execution_count": null,
   "id": "6c0caaf1",
   "metadata": {},
   "outputs": [],
   "source": [
    "# Loading Model\n",
    "\n",
    "model = tf.keras.models.load_model('BFN-AI')"
   ]
  },
  {
   "cell_type": "code",
   "execution_count": 6,
   "id": "39324c59",
   "metadata": {},
   "outputs": [
    {
     "data": {
      "text/plain": [
       "generation_technique\n",
       "style based          89131\n",
       "content based        53583\n",
       "story based          44138\n",
       "integration based    29222\n",
       "Name: count, dtype: int64"
      ]
     },
     "execution_count": 6,
     "metadata": {},
     "output_type": "execute_result"
    }
   ],
   "source": [
    "megafake_train['generation_technique'].value_counts()"
   ]
  },
  {
   "cell_type": "code",
   "execution_count": 4,
   "id": "ab220725",
   "metadata": {},
   "outputs": [],
   "source": [
    "# We remove label 1 (Real) because our model was not trained on LLM-generated real news,\n",
    "# since we believe that this is a rarely occuring scenario in the real-world.\n",
    "\n",
    "megafake_train = megafake_train[megafake_train['binary_label']!=1]\n",
    "megafake_train['Human_vs_AI'] = 1\n",
    "megafake_test = megafake_test[megafake_test['binary_label']!=1]\n",
    "megafake_test['Human_vs_AI'] = 1\n",
    "\n",
    "megafake = pd.concat([megafake_train,megafake_test],axis=0)\n",
    "\n"
   ]
  },
  {
   "cell_type": "code",
   "execution_count": 5,
   "id": "11d4718a",
   "metadata": {},
   "outputs": [
    {
     "data": {
      "application/vnd.microsoft.datawrangler.viewer.v0+json": {
       "columns": [
        {
         "name": "index",
         "rawType": "int64",
         "type": "integer"
        },
        {
         "name": "id",
         "rawType": "object",
         "type": "string"
        },
        {
         "name": "dataset",
         "rawType": "object",
         "type": "string"
        },
        {
         "name": "generation_technique",
         "rawType": "object",
         "type": "string"
        },
        {
         "name": "text",
         "rawType": "object",
         "type": "string"
        },
        {
         "name": "text_clean",
         "rawType": "object",
         "type": "unknown"
        },
        {
         "name": "chunk_id",
         "rawType": "int64",
         "type": "integer"
        },
        {
         "name": "title",
         "rawType": "bool",
         "type": "boolean"
        },
        {
         "name": "binary_label",
         "rawType": "int64",
         "type": "integer"
        },
        {
         "name": "Human_vs_AI",
         "rawType": "int64",
         "type": "integer"
        }
       ],
       "conversionMethod": "pd.DataFrame",
       "ref": "59d591f9-0b31-45bb-a251-0cb403d408dd",
       "rows": [
        [
         "0",
         "MegaFake_25258",
         "MegaFake",
         "style based",
         "secret tickle-fetish sleeper cells. What we love about it is how creative the documentarian got with how he obtained and shot his footage, because he's dealing with people who are very rich and powerful and determined to keep this stuff secret. There are some influences with that when it came to how Peter tries to get his information when he's been banned from campus.",
         "secret ticklefetish sleeper cells what we love about it is how creative the documentarian got with how he obtained and shot his footage because hes dealing with people who are very rich and powerful and determined to keep this stuff secret there are some influences with that when it came to how peter tries to get his information when hes been banned from campus",
         "19",
         "False",
         "0",
         "1"
        ],
        [
         "3",
         "MegaFake_150633",
         "MegaFake",
         "story based",
         "Selena Gomez is known for her stunning glow, and many fans are curious about the secret behind it. According to sources close to the actress, she uses a unique tool to achieve her radiant complexion. The tool in question is called the \"Microdermabrasion Facial,\" a non-invasive procedure that uses fine crystals to gently exfoliate the skin. This process helps to remove dead skin cells,",
         "selena gomez is known for her stunning glow and many fans are curious about the secret behind it according to sources close to the actress she uses a unique tool to achieve her radiant complexion the tool in question is called the microdermabrasion facial a noninvasive procedure that uses fine crystals to gently exfoliate the skin this process helps to remove dead skin cells",
         "1",
         "False",
         "0",
         "1"
        ],
        [
         "4",
         "MegaFake_62305",
         "MegaFake",
         "style based",
         "have happened at the end of the season, for various reasons, he wasnât able to get it together and had to come up with a new ending. He had to come up with something else and he came to me and he goes, âThis is what Iâm thinking is going to be compelling.â And I said, âAlright!â He told me that he was planning",
         "have happened at the end of the season for various reasons he wasnt able to get it together and had to come up with a new ending he had to come up with something else and he came to me and he goes this is what im thinking is going to be compelling and i said alright he told me that he was planning",
         "3",
         "False",
         "0",
         "1"
        ],
        [
         "5",
         "MegaFake_39737",
         "MegaFake",
         "style based",
         "a crucial part of the series since its inception. As the final moments of the premiere revealed, Langdon is a man with epic hair who has come to save Wilhelmina Venable (Sarah Paulson) and the other survivors in her nuclear shelter. However, not all survivors will be spared his scrutiny and judgment. This revelation will no doubt send chills down the spines of fans",
         "a crucial part of the series since its inception as the final moments of the premiere revealed langdon is a man with epic hair who has come to save wilhelmina venable sarah paulson and the other survivors in her nuclear shelter however not all survivors will be spared his scrutiny and judgment this revelation will no doubt send chills down the spines of fans",
         "2",
         "False",
         "0",
         "1"
        ],
        [
         "6",
         "MegaFake_11495",
         "MegaFake",
         "style based",
         "hours after the report was published to express her frustration with the accuracy of the story, writing, \"I can't believe some of the stories people create. Where do they come from and who are these 'sources'? Hummmm.\" Although Kardashian has not publicly addressed the rumors, she has been posting cryptic quotes on her social media accounts, leaving fans to speculate about her personal life.",
         "hours after the report was published to express her frustration with the accuracy of the story writing i cant believe some of the stories people create where do they come from and who are these sources hummmm although kardashian has not publicly addressed the rumors she has been posting cryptic quotes on her social media accounts leaving fans to speculate about her personal life",
         "2",
         "False",
         "0",
         "1"
        ],
        [
         "7",
         "MegaFake_145450",
         "MegaFake",
         "integration based",
         "30, and the record addresses their strained relationship. Although the arrival of their twins has left the celebrity duo feeling \"totally exhausted\", Beyonce and Jay are both still overjoyed. On Sunday evening, Kim Kardashian West posted a tweet that seemed harmless, but when heeded, led to a Snapchat video that broke the internet. The video showed Kanye West on a speakerphone call with Taylor",
         "30 and the record addresses their strained relationship although the arrival of their twins has left the celebrity duo feeling totally exhausted beyonce and jay are both still overjoyed on sunday evening kim kardashian west posted a tweet that seemed harmless but when heeded led to a snapchat video that broke the internet the video showed kanye west on a speakerphone call with taylor",
         "3",
         "False",
         "0",
         "1"
        ],
        [
         "9",
         "MegaFake_180118",
         "MegaFake",
         "story based",
         "Happy dating!",
         "happy dating",
         "13",
         "False",
         "0",
         "1"
        ],
        [
         "10",
         "MegaFake_137588",
         "MegaFake",
         "integration based",
         "Despite the recent split, Chris Pratt and Anna Faris are still co-parenting their 5-year-old son Jack and maintaining a friendship. Pratt recently opened up about their divorce for the first time, revealing that \"divorce sucks\" but they are both doing better and finding a way to navigate their separation. The actor and his ex-wife have reserved the right to obtain spousal support and joint",
         "despite the recent split chris pratt and anna faris are still coparenting their 5yearold son jack and maintaining a friendship pratt recently opened up about their divorce for the first time revealing that divorce sucks but they are both doing better and finding a way to navigate their separation the actor and his exwife have reserved the right to obtain spousal support and joint",
         "1",
         "False",
         "0",
         "1"
        ],
        [
         "11",
         "MegaFake_50524",
         "MegaFake",
         "style based",
         "in a state of shock.\" Dana's battle with advanced cirrhosis of the liver and kidney failure was a difficult one, but Colton wrote in a February Instagram post that his mother had been \"in and out of hospital since January.\" He revealed that she had been tested multiple times and that a diagnosis of liver transplant was suggested, but that she did not have",
         "in a state of shock danas battle with advanced cirrhosis of the liver and kidney failure was a difficult one but colton wrote in a february instagram post that his mother had been in and out of hospital since january he revealed that she had been tested multiple times and that a diagnosis of liver transplant was suggested but that she did not have",
         "3",
         "False",
         "0",
         "1"
        ],
        [
         "12",
         "MegaFake_73450",
         "MegaFake",
         "content based",
         "revised diagnosis was short-lived, as the reality of her condition led to a shift in her perspective, from hope ofä¿®å¤ to a fear of being unfixable. McKenna adds, âHer behavior is deeply ingrained, so sheâll continue to face these battles, but now with more insight.â With her diagnosis confirmed, Rebecca will work to incorporate this new understanding into her life and learn new coping",
         "revised diagnosis was shortlived as the reality of her condition led to a shift in her perspective from hope of to a fear of being unfixable mckenna adds her behavior is deeply ingrained so shell continue to face these battles but now with more insight with her diagnosis confirmed rebecca will work to incorporate this new understanding into her life and learn new coping",
         "4",
         "False",
         "0",
         "1"
        ],
        [
         "13",
         "MegaFake_26295",
         "MegaFake",
         "style based",
         "to assist you.",
         "to assist you",
         "4",
         "False",
         "0",
         "1"
        ],
        [
         "14",
         "MegaFake_84254",
         "MegaFake",
         "content based",
         "most-watched season of âAGTâ thus far. The Tuesday episodes ranked as the top show of the season, while the Wednesday broadcasts came in second. Moreover, âAGTâ acted as the lead-in for the third-highest rated series of the summer, âWorld of Dance.â âAmericaâs Got Talent,â devised by Cowell, is a joint production of FremantleMedia North America and Syco Entertainment. The executive producers include Cowell, Sam",
         "mostwatched season of agt thus far the tuesday episodes ranked as the top show of the season while the wednesday broadcasts came in second moreover agt acted as the leadin for the thirdhighest rated series of the summer world of dance americas got talent devised by cowell is a joint production of fremantlemedia north america and syco entertainment the executive producers include cowell sam",
         "4",
         "False",
         "0",
         "1"
        ],
        [
         "15",
         "MegaFake_91619",
         "MegaFake",
         "content based",
         "friendship is going as strong as could be. Instagram users found the interaction incredibly endearing. Indeed: Millie Bobby Brown, who stars in a widely acclaimed, Emmy-nominated series and is pals with the Kardashians, is just 14 years old. What achievements can we claim at this point? Featured Video For You How 'Stranger Things' stars got ready emotionally for that dramatic Demogorgon scene]",
         "friendship is going as strong as could be instagram users found the interaction incredibly endearing indeed millie bobby brown who stars in a widely acclaimed emmynominated series and is pals with the kardashians is just 14 years old what achievements can we claim at this point featured video for you how stranger things stars got ready emotionally for that dramatic demogorgon scene",
         "2",
         "False",
         "0",
         "1"
        ],
        [
         "17",
         "MegaFake_18279",
         "MegaFake",
         "style based",
         "it's been a welcome change of pace. \"I've never had this time off before, or if I have I've been injured and it's really different to be injured as opposed to be expecting,\" she told ABC News. \"I've been really enjoying my time off and getting ready for this new massive chapter in my life.\" ABC News' Katie Kindelan contributed to this report.",
         "its been a welcome change of pace ive never had this time off before or if i have ive been injured and its really different to be injured as opposed to be expecting she told abc news ive been really enjoying my time off and getting ready for this new massive chapter in my life abc news katie kindelan contributed to this report",
         "4",
         "False",
         "0",
         "1"
        ],
        [
         "18",
         "MegaFake_186109",
         "MegaFake",
         "story based",
         "Jennifer Lopez has some advice for BeyoncÃ© about raising twins. The singer, who has two children of her own, recently spoke to Vogue about her experiences with motherhood. \"I think the most important thing is to be patient,\" she said. \"It's a lot to take in, and it's a lot to learn, and it's a lot to adjust to, and it's a lot to",
         "jennifer lopez has some advice for beyonce about raising twins the singer who has two children of her own recently spoke to vogue about her experiences with motherhood i think the most important thing is to be patient she said its a lot to take in and its a lot to learn and its a lot to adjust to and its a lot to",
         "1",
         "False",
         "0",
         "1"
        ],
        [
         "19",
         "MegaFake_3435",
         "MegaFake",
         "style based",
         "Jenner handle crisis PR for Hollywood celebrities such as Robert Downey Jr. and Mel Gibson. Jenner turned to Nierob for assistance in navigating the media attention that followed her coming out as transgender. Nierob had previously represented Jenner in the mid-1980s but had never been her official publicist. Instead, he acted as a friend and advisor. Nierob worked with Jenner's manager and attorney to",
         "jenner handle crisis pr for hollywood celebrities such as robert downey jr and mel gibson jenner turned to nierob for assistance in navigating the media attention that followed her coming out as transgender nierob had previously represented jenner in the mid1980s but had never been her official publicist instead he acted as a friend and advisor nierob worked with jenners manager and attorney to",
         "2",
         "False",
         "0",
         "1"
        ],
        [
         "20",
         "MegaFake_99081",
         "MegaFake",
         "content based",
         "That involves reducing them to something manageable. Yet women are intricate. It's also a reminder that the media's representation is far from reality.\" This issue of perceiving women as multifaceted individuals extends beyond Lively's personal life. She notes in Glamour that characters in the entertainment industry are frequently flat, but with women taking charge in producing their works, such as with the hit movie",
         "that involves reducing them to something manageable yet women are intricate its also a reminder that the medias representation is far from reality this issue of perceiving women as multifaceted individuals extends beyond livelys personal life she notes in glamour that characters in the entertainment industry are frequently flat but with women taking charge in producing their works such as with the hit movie",
         "2",
         "False",
         "0",
         "1"
        ],
        [
         "21",
         "MegaFake_159599",
         "MegaFake",
         "story based",
         "Ben Affleck and Jennifer Garner are reportedly \"secretly separated\" and \"headed for divorce.\" The couple, who have been together for 10 years and have two children together, has been plagued with rumors of marital troubles for months. However, sources close to the couple claim that they have been secretly living apart for several months and are considering divorce. According to one source, \"Jen and",
         "ben affleck and jennifer garner are reportedly secretly separated and headed for divorce the couple who have been together for 10 years and have two children together has been plagued with rumors of marital troubles for months however sources close to the couple claim that they have been secretly living apart for several months and are considering divorce according to one source jen and",
         "1",
         "False",
         "0",
         "1"
        ],
        [
         "22",
         "MegaFake_54284",
         "MegaFake",
         "style based",
         "by 80 smaller diamonds. The ring was designed by jewelry designer Neil Lane, and was a gift from Bryan. Rachel has shown off the ring often, wearing it with pride and joy. It serves as a reminder of their love and commitment to each other. In the end, while the dress may have been heavy, it was still a symbol of Rachel's love and",
         "by 80 smaller diamonds the ring was designed by jewelry designer neil lane and was a gift from bryan rachel has shown off the ring often wearing it with pride and joy it serves as a reminder of their love and commitment to each other in the end while the dress may have been heavy it was still a symbol of rachels love and",
         "3",
         "False",
         "0",
         "1"
        ],
        [
         "23",
         "MegaFake_190283",
         "MegaFake",
         "story based",
         "Pete Davidson has confirmed that he is in a relationship with Ariana Grande, and to mark the occasion, he has gotten two tribute tattoos to the singer. Davidson's first tattoo is a large image of Grande's face on his bicep, with the words \"Arianators\" written above it in a heart. The second tattoo is a small image of Grande's face on his finger, with",
         "pete davidson has confirmed that he is in a relationship with ariana grande and to mark the occasion he has gotten two tribute tattoos to the singer davidsons first tattoo is a large image of grandes face on his bicep with the words arianators written above it in a heart the second tattoo is a small image of grandes face on his finger with",
         "1",
         "False",
         "0",
         "1"
        ],
        [
         "24",
         "MegaFake_8037",
         "MegaFake",
         "style based",
         "come and is putting Gwen at ease by telling her that all they have to do is be together, and he will be there for her regardless of what emotions she has on that day. He respects Gavin as the father of her children and knows that he will always be a part of their lives, so he is okay with Gwen's feelings and",
         "come and is putting gwen at ease by telling her that all they have to do is be together and he will be there for her regardless of what emotions she has on that day he respects gavin as the father of her children and knows that he will always be a part of their lives so he is okay with gwens feelings and",
         "3",
         "False",
         "0",
         "1"
        ],
        [
         "25",
         "MegaFake_132045",
         "MegaFake",
         "content based",
         "at the 2018 Brit Awards in February. They first crossed paths in 2008 when Payne auditioned for The X Factor, where Cole, then a judge, was present. They started dating in 2015 and are parents to their toddler, Bear.]",
         "at the 2018 brit awards in february they first crossed paths in 2008 when payne auditioned for the x factor where cole then a judge was present they started dating in 2015 and are parents to their toddler bear",
         "8",
         "False",
         "0",
         "1"
        ],
        [
         "26",
         "MegaFake_89622",
         "MegaFake",
         "content based",
         "[Where is Chrissy Teigen? Thatâs what many pop culture enthusiasts were pondering Sunday evening, as the 2018 Music Awards ceremony was broadcast live across the nation on CBS. John Legend took to the stage, and while several of his colleagues were in attendance, fans anticipated seeing theèå model among the crowd at the Microsoft Theater. Yet, to their disappointment, she chose to support her",
         "where is chrissy teigen thats what many pop culture enthusiasts were pondering sunday evening as the 2018 music awards ceremony was broadcast live across the nation on cbs john legend took to the stage and while several of his colleagues were in attendance fans anticipated seeing the model among the crowd at the microsoft theater yet to their disappointment she chose to support her",
         "1",
         "False",
         "0",
         "1"
        ],
        [
         "27",
         "MegaFake_129794",
         "MegaFake",
         "content based",
         "Ashley Graham unexpectedly graced the set of Revenge Body With Khloe Kardashian on the latest episode, offering guidance to aspiring plus-size model Kelsey Rose. The 30-year-old model mentor made her presence felt right when Kelsey, mid-way through her 12-week transformation with the aid of trainer Gunnar Peterson and dietitian Dr. Philip Goglia, needed a boost. 'Wow, Ashley Graham is a legend, having graced the",
         "ashley graham unexpectedly graced the set of revenge body with khloe kardashian on the latest episode offering guidance to aspiring plussize model kelsey rose the 30yearold model mentor made her presence felt right when kelsey midway through her 12week transformation with the aid of trainer gunnar peterson and dietitian dr philip goglia needed a boost wow ashley graham is a legend having graced the",
         "1",
         "False",
         "0",
         "1"
        ],
        [
         "28",
         "MegaFake_24023",
         "MegaFake",
         "style based",
         "honor, following Paul McCartney's knighthood 21 years ago. âI am thrilled and honored to receive this incredible recognition for my music and charity work,\" said Ringo, whose real name is Richard Starkey. \"Peace and love.\" Meanwhile, Barry Gibb, the last surviving member of the Bee Gees, has dedicated his knighthood to his late bandmates, twin brothers Robin Gibb, who passed away in 2012, and",
         "honor following paul mccartneys knighthood 21 years ago i am thrilled and honored to receive this incredible recognition for my music and charity work said ringo whose real name is richard starkey peace and love meanwhile barry gibb the last surviving member of the bee gees has dedicated his knighthood to his late bandmates twin brothers robin gibb who passed away in 2012 and",
         "2",
         "False",
         "0",
         "1"
        ],
        [
         "29",
         "MegaFake_86746",
         "MegaFake",
         "content based",
         "filming of the fifth season's final episode. This parallels the CW's move to conclude 90210 six years back. Yet, for Reign, rumors suggest that the choice wasn't unexpected. There had been ongoing discussions between the network and producers about the possibility of the fifth season being the final one, prompting the writers to prepare for this eventuality. It's said that they are ready to",
         "filming of the fifth seasons final episode this parallels the cws move to conclude 90210 six years back yet for reign rumors suggest that the choice wasnt unexpected there had been ongoing discussions between the network and producers about the possibility of the fifth season being the final one prompting the writers to prepare for this eventuality its said that they are ready to",
         "2",
         "False",
         "0",
         "1"
        ],
        [
         "30",
         "MegaFake_106690",
         "MegaFake",
         "content based",
         "VMAs in 2017. 05 of 12 NAYA RIVERA & BIG SEAN Gregg DeGuire/WireImage Relationship status: Split The once-engaged pair connected on Twitter, messaging back and forth until they decided to meet in person. \"I was following him, and he sent me a note like, 'I'm a fan,'\" the Glee star mentioned then. \"We had dinner, and the rest is history.\" 06 of 12 JAKE",
         "vmas in 2017 05 of 12 naya rivera big sean gregg deguirewireimage relationship status split the onceengaged pair connected on twitter messaging back and forth until they decided to meet in person i was following him and he sent me a note like im a fan the glee star mentioned then we had dinner and the rest is history 06 of 12 jake",
         "7",
         "False",
         "0",
         "1"
        ],
        [
         "31",
         "MegaFake_165809",
         "MegaFake",
         "story based",
         "and has even hinted at a potential romantic relationship between the two. Grande's actions have been met with controversy, with some fans accusing her of being inappropriate and crossing the line with her young followers. Both Grande and Brown have yet to comment on the report, but it is clear that the pop star is not afraid to stir up some buzz on social",
         "and has even hinted at a potential romantic relationship between the two grandes actions have been met with controversy with some fans accusing her of being inappropriate and crossing the line with her young followers both grande and brown have yet to comment on the report but it is clear that the pop star is not afraid to stir up some buzz on social",
         "2",
         "False",
         "0",
         "1"
        ],
        [
         "33",
         "MegaFake_100228",
         "MegaFake",
         "content based",
         "cocaine use or any other substance.\" This victory stems from a $5 million defamation lawsuit that Woods initiated in mid-2015. Targeting an anonymous Twitter user who criticized Woods' conservative views by labeling him a âcocaine addict,â the lawsuit aimed to send a clear warning. Michael Weinsten of Lavely & Singer law firm stated in the complaint, âThose like 'AL' who spread lies via social",
         "cocaine use or any other substance this victory stems from a 5 million defamation lawsuit that woods initiated in mid2015 targeting an anonymous twitter user who criticized woods conservative views by labeling him a cocaine addict the lawsuit aimed to send a clear warning michael weinsten of lavely singer law firm stated in the complaint those like al who spread lies via social",
         "2",
         "False",
         "0",
         "1"
        ],
        [
         "34",
         "MegaFake_174901",
         "MegaFake",
         "story based",
         "streets and experiencing its unique culture, and at night, they danced the night away at the city's many bars and clubs. One of the highlights of the weekend was a private cooking class that Mandy and her friends attended. They learned how to make classic Cajun dishes like gumbo and jambalaya from a local chef, and even had the chance to sample their own",
         "streets and experiencing its unique culture and at night they danced the night away at the citys many bars and clubs one of the highlights of the weekend was a private cooking class that mandy and her friends attended they learned how to make classic cajun dishes like gumbo and jambalaya from a local chef and even had the chance to sample their own",
         "3",
         "False",
         "0",
         "1"
        ],
        [
         "36",
         "MegaFake_58245",
         "MegaFake",
         "style based",
         "supportive message to those struggling with fertility. The actress began dating Morgan in 2009, and in 2010, they welcomed their first child, a son named Augustus. The couple married in 2014, and on Tuesday, Burton revealed that it took her five long years to carry a second child to term. \"There's something I really want to say to all the women out there who",
         "supportive message to those struggling with fertility the actress began dating morgan in 2009 and in 2010 they welcomed their first child a son named augustus the couple married in 2014 and on tuesday burton revealed that it took her five long years to carry a second child to term theres something i really want to say to all the women out there who",
         "2",
         "False",
         "0",
         "1"
        ],
        [
         "37",
         "MegaFake_129983",
         "MegaFake",
         "content based",
         "enthusiastic acceptance was evident to all.",
         "enthusiastic acceptance was evident to all",
         "2",
         "False",
         "0",
         "1"
        ],
        [
         "38",
         "MegaFake_138999",
         "MegaFake",
         "integration based",
         "and that she was threatened by his representative to be nice and support him. Wilson also shared a separate incident in which she felt uncomfortable with a top director in Hollywood while they were alone in a hotel room. She realized she was one of the \"lucky\" ones and that not everyone is as lucky as her. Wilson concluded that if she witnesses this",
         "and that she was threatened by his representative to be nice and support him wilson also shared a separate incident in which she felt uncomfortable with a top director in hollywood while they were alone in a hotel room she realized she was one of the lucky ones and that not everyone is as lucky as her wilson concluded that if she witnesses this",
         "4",
         "False",
         "0",
         "1"
        ],
        [
         "41",
         "MegaFake_166280",
         "MegaFake",
         "story based",
         "11 August 1993 in Wolverhampton, England. He grew up playing soccer and was a member of his local soccer team, Stoke City F.C. Payne began his music career by forming a group called \"1D\" with his schoolmates, but the group failed to gain traction. He later auditioned for \"The X Factor\" and was selected as a finalist, where he won over audiences with his",
         "11 august 1993 in wolverhampton england he grew up playing soccer and was a member of his local soccer team stoke city fc payne began his music career by forming a group called 1d with his schoolmates but the group failed to gain traction he later auditioned for the x factor and was selected as a finalist where he won over audiences with his",
         "6",
         "False",
         "0",
         "1"
        ],
        [
         "42",
         "MegaFake_157074",
         "MegaFake",
         "story based",
         "his property. Clooney, who is known for his privacy-focused lifestyle, has been vocal in the past about the intrusive nature of the paparazzi. He has previously spoken out against the constant hounding of his family by the media, and has even taken legal action against some of the photographers who have crossed the line. It is unclear what steps, if any, the actor will",
         "his property clooney who is known for his privacyfocused lifestyle has been vocal in the past about the intrusive nature of the paparazzi he has previously spoken out against the constant hounding of his family by the media and has even taken legal action against some of the photographers who have crossed the line it is unclear what steps if any the actor will",
         "3",
         "False",
         "0",
         "1"
        ],
        [
         "43",
         "MegaFake_11551",
         "MegaFake",
         "style based",
         "in their respective careers, with BeyoncÃ© being one of the most successful female artists of all time and Drake being one of the most successful hip-hop artists. In conclusion, while it is impossible to predict the future of Rihanna and Drake's relationship, there are certainly many reasons to believe that they could be the next BeyoncÃ© and Jay Z.",
         "in their respective careers with beyonce being one of the most successful female artists of all time and drake being one of the most successful hiphop artists in conclusion while it is impossible to predict the future of rihanna and drakes relationship there are certainly many reasons to believe that they could be the next beyonce and jay z",
         "3",
         "False",
         "0",
         "1"
        ],
        [
         "44",
         "MegaFake_70691",
         "MegaFake",
         "content based",
         "quipped, \"Our dads are in the jewelry business; the ring is a no-brainer!\" By the fourth date, he mentioned his cousins wanted to be bridesmaids. I didn't even want any, but I was smitten! He never officially proposed! We met the Sunday before Labor Day 2001 and tied the knot exactly one year later, the Sunday before Labor Day 2002. Our wedding had 500",
         "quipped our dads are in the jewelry business the ring is a nobrainer by the fourth date he mentioned his cousins wanted to be bridesmaids i didnt even want any but i was smitten he never officially proposed we met the sunday before labor day 2001 and tied the knot exactly one year later the sunday before labor day 2002 our wedding had 500",
         "9",
         "False",
         "0",
         "1"
        ],
        [
         "45",
         "MegaFake_137938",
         "MegaFake",
         "integration based",
         "Welcome to You Know What I Heard, the Cutâs weekly column that brings you the latest updates on the love lives of the rich and famous. This week, we have some interesting updates on Sofia Richie and Scott Disick's relationship, as well as some new celeb PDA's. According to E!, Sofia Richie and Scott Disick have broken up, but only for two days. The",
         "welcome to you know what i heard the cuts weekly column that brings you the latest updates on the love lives of the rich and famous this week we have some interesting updates on sofia richie and scott disicks relationship as well as some new celeb pdas according to e sofia richie and scott disick have broken up but only for two days the",
         "1",
         "False",
         "0",
         "1"
        ],
        [
         "46",
         "MegaFake_12982",
         "MegaFake",
         "style based",
         "on social media. \"Pops passed away today with absolute dignity & pride,\" Carson wrote. \"The greatest man we ever knew. Our hero. He provided us all with so much. We're grateful. His legacy lives on in all of us & anyone who had the pleasure of meeting him.\" Carson continued, \"He's reunited with mom now. Our faith remains strong. Thanks for your continued thoughts",
         "on social media pops passed away today with absolute dignity pride carson wrote the greatest man we ever knew our hero he provided us all with so much were grateful his legacy lives on in all of us anyone who had the pleasure of meeting him carson continued hes reunited with mom now our faith remains strong thanks for your continued thoughts",
         "2",
         "False",
         "0",
         "1"
        ],
        [
         "50",
         "MegaFake_96380",
         "MegaFake",
         "content based",
         "If she ever shares my perspective on these fundamental concepts, perhaps we could reach a truce. Having said that, Nellie has continually provoked without anticipating the consequences. She's meddled in my personal affairs with her viewpoints, only to act the victim as per usual. It's a tactic she's mastered! She's made everyone she's associated with pay their dues. I'm not interested in that game!",
         "if she ever shares my perspective on these fundamental concepts perhaps we could reach a truce having said that nellie has continually provoked without anticipating the consequences shes meddled in my personal affairs with her viewpoints only to act the victim as per usual its a tactic shes mastered shes made everyone shes associated with pay their dues im not interested in that game",
         "5",
         "False",
         "0",
         "1"
        ],
        [
         "51",
         "MegaFake_93892",
         "MegaFake",
         "content based",
         "into a suited-up Superman, Kathie Lee Gifford as Wonder Woman, Al Roker as Spiderman, Megyn Kelly as Black Widow (sporting a catsuit!), and Hoda Kotb channels her inner Thor, even outshining the real Blake Shelton, who made a surprise appearance. â It's always a blast, such a surreal experience,â Gifford, 66, shared with PEOPLE after the show. âWe all dread the effort that Halloween",
         "into a suitedup superman kathie lee gifford as wonder woman al roker as spiderman megyn kelly as black widow sporting a catsuit and hoda kotb channels her inner thor even outshining the real blake shelton who made a surprise appearance its always a blast such a surreal experience gifford 66 shared with people after the show we all dread the effort that halloween",
         "2",
         "False",
         "0",
         "1"
        ],
        [
         "53",
         "MegaFake_56685",
         "MegaFake",
         "style based",
         "with her cousin Penelope and the entire Kardashian and Jenner clans, we are all grateful for the joy she brings into our lives. As we continue to celebrate North's special day, let us take a moment to appreciate the beautiful child she is and the love that surrounds her. Happy fourth birthday, North West. We love you more than words can express.",
         "with her cousin penelope and the entire kardashian and jenner clans we are all grateful for the joy she brings into our lives as we continue to celebrate norths special day let us take a moment to appreciate the beautiful child she is and the love that surrounds her happy fourth birthday north west we love you more than words can express",
         "3",
         "False",
         "0",
         "1"
        ],
        [
         "55",
         "MegaFake_138518",
         "MegaFake",
         "integration based",
         "Meghan Markle, the former Suits actress and fiancÃ© of Prince Harry, has been the subject of sensational rumors following a report in The National Enquirer. The report claims that Meghan was caught in a sneaky 'dressing room hook up' with disgraced American TV host Matt Lauer, before she started dating Harry. According to an insider, Meghan and Matt, 60, 'vanished together' and that Meghan",
         "meghan markle the former suits actress and fiance of prince harry has been the subject of sensational rumors following a report in the national enquirer the report claims that meghan was caught in a sneaky dressing room hook up with disgraced american tv host matt lauer before she started dating harry according to an insider meghan and matt 60 vanished together and that meghan",
         "1",
         "False",
         "0",
         "1"
        ],
        [
         "56",
         "MegaFake_84437",
         "MegaFake",
         "content based",
         "ESPN, respectively. CBS bills the show as \"a celebration of winter pastimes,\" and it aired in opposition to FOX's broadcast of the 2019 Snow Sports Championships.bara Corcoran conducted the on-site interviews and commentary. The series brings back former participants from Love Quest and Single Hope to aæ»éª resort in Jackson Hole, Wyoming, where they compete against contestants from international versions of the series in",
         "espn respectively cbs bills the show as a celebration of winter pastimes and it aired in opposition to foxs broadcast of the 2019 snow sports championshipsbara corcoran conducted the onsite interviews and commentary the series brings back former participants from love quest and single hope to a resort in jackson hole wyoming where they compete against contestants from international versions of the series in",
         "2",
         "False",
         "0",
         "1"
        ],
        [
         "57",
         "MegaFake_50836",
         "MegaFake",
         "style based",
         "that fans have been waiting for, premieres this Sunday, November 5 at 9/8c. Don't miss out on this opportunity to relive the glory days of Xscape and see what these four incredible women have been up to.",
         "that fans have been waiting for premieres this sunday november 5 at 98c dont miss out on this opportunity to relive the glory days of xscape and see what these four incredible women have been up to",
         "8",
         "False",
         "0",
         "1"
        ],
        [
         "58",
         "MegaFake_66570",
         "MegaFake",
         "style based",
         "in 1992 and had a daughter, Ella, the same year. Ella is also an actress and has starred in Maneater and Trauma is a Time Machine. The couple divorced in 1994, but Ella still lives with her mother in London. Fiona may have a low-key life with her daughter, but she still manages to live a peaceful life with her family and daughter. And",
         "in 1992 and had a daughter ella the same year ella is also an actress and has starred in maneater and trauma is a time machine the couple divorced in 1994 but ella still lives with her mother in london fiona may have a lowkey life with her daughter but she still manages to live a peaceful life with her family and daughter and",
         "3",
         "False",
         "0",
         "1"
        ],
        [
         "61",
         "MegaFake_96785",
         "MegaFake",
         "content based",
         "wristbands. Out and About: The duo appeared content as they selected pet items and retained a firm grip on their two furry companions Four-legged Companion: Zac, who grieved his dog Roxy in 2018, seems to have welcomed a new mixed-breed dog into his life Alexandra was prepared to join the playful pups in a red-and-white-striped sweater with blue edges. She displayed her lengthy limbs",
         "wristbands out and about the duo appeared content as they selected pet items and retained a firm grip on their two furry companions fourlegged companion zac who grieved his dog roxy in 2018 seems to have welcomed a new mixedbreed dog into his life alexandra was prepared to join the playful pups in a redandwhitestriped sweater with blue edges she displayed her lengthy limbs",
         "3",
         "False",
         "0",
         "1"
        ],
        [
         "62",
         "MegaFake_45669",
         "MegaFake",
         "style based",
         "the entertainment business, her makeup must-haves, and what her new gig means to her. When asked about her beauty standards, Michele revealed, \"I think I'm beautiful. It's just in this town and in Hollywood, I wouldn't consider myself the standard, typical type of beauty. I'm Jewish and Italian, and I have a lot of different ethnicities that add to my look being unique.\" Michele",
         "the entertainment business her makeup musthaves and what her new gig means to her when asked about her beauty standards michele revealed i think im beautiful its just in this town and in hollywood i wouldnt consider myself the standard typical type of beauty im jewish and italian and i have a lot of different ethnicities that add to my look being unique michele",
         "2",
         "False",
         "0",
         "1"
        ],
        [
         "63",
         "MegaFake_141513",
         "MegaFake",
         "integration based",
         "name and not a poaching. However, a Los Angeles-based entertainment lawyer specializing in trademark litigation had previously stated that even if Chyna does marry into the Kardashian family, her legal name may be blocked from being trademarked.",
         "name and not a poaching however a los angelesbased entertainment lawyer specializing in trademark litigation had previously stated that even if chyna does marry into the kardashian family her legal name may be blocked from being trademarked",
         "3",
         "False",
         "0",
         "1"
        ],
        [
         "64",
         "MegaFake_6360",
         "MegaFake",
         "style based",
         "was reported that he had ensured she had a small role in the film \"The Big Short,\" which he produced.",
         "was reported that he had ensured she had a small role in the film the big short which he produced",
         "2",
         "False",
         "0",
         "1"
        ]
       ],
       "shape": {
        "columns": 9,
        "rows": 203530
       }
      },
      "text/html": [
       "<div>\n",
       "<style scoped>\n",
       "    .dataframe tbody tr th:only-of-type {\n",
       "        vertical-align: middle;\n",
       "    }\n",
       "\n",
       "    .dataframe tbody tr th {\n",
       "        vertical-align: top;\n",
       "    }\n",
       "\n",
       "    .dataframe thead th {\n",
       "        text-align: right;\n",
       "    }\n",
       "</style>\n",
       "<table border=\"1\" class=\"dataframe\">\n",
       "  <thead>\n",
       "    <tr style=\"text-align: right;\">\n",
       "      <th></th>\n",
       "      <th>id</th>\n",
       "      <th>dataset</th>\n",
       "      <th>generation_technique</th>\n",
       "      <th>text</th>\n",
       "      <th>text_clean</th>\n",
       "      <th>chunk_id</th>\n",
       "      <th>title</th>\n",
       "      <th>binary_label</th>\n",
       "      <th>Human_vs_AI</th>\n",
       "    </tr>\n",
       "  </thead>\n",
       "  <tbody>\n",
       "    <tr>\n",
       "      <th>0</th>\n",
       "      <td>MegaFake_25258</td>\n",
       "      <td>MegaFake</td>\n",
       "      <td>style based</td>\n",
       "      <td>secret tickle-fetish sleeper cells. What we lo...</td>\n",
       "      <td>secret ticklefetish sleeper cells what we love...</td>\n",
       "      <td>19</td>\n",
       "      <td>False</td>\n",
       "      <td>0</td>\n",
       "      <td>1</td>\n",
       "    </tr>\n",
       "    <tr>\n",
       "      <th>3</th>\n",
       "      <td>MegaFake_150633</td>\n",
       "      <td>MegaFake</td>\n",
       "      <td>story based</td>\n",
       "      <td>Selena Gomez is known for her stunning glow, a...</td>\n",
       "      <td>selena gomez is known for her stunning glow an...</td>\n",
       "      <td>1</td>\n",
       "      <td>False</td>\n",
       "      <td>0</td>\n",
       "      <td>1</td>\n",
       "    </tr>\n",
       "    <tr>\n",
       "      <th>4</th>\n",
       "      <td>MegaFake_62305</td>\n",
       "      <td>MegaFake</td>\n",
       "      <td>style based</td>\n",
       "      <td>have happened at the end of the season, for va...</td>\n",
       "      <td>have happened at the end of the season for var...</td>\n",
       "      <td>3</td>\n",
       "      <td>False</td>\n",
       "      <td>0</td>\n",
       "      <td>1</td>\n",
       "    </tr>\n",
       "    <tr>\n",
       "      <th>5</th>\n",
       "      <td>MegaFake_39737</td>\n",
       "      <td>MegaFake</td>\n",
       "      <td>style based</td>\n",
       "      <td>a crucial part of the series since its incepti...</td>\n",
       "      <td>a crucial part of the series since its incepti...</td>\n",
       "      <td>2</td>\n",
       "      <td>False</td>\n",
       "      <td>0</td>\n",
       "      <td>1</td>\n",
       "    </tr>\n",
       "    <tr>\n",
       "      <th>6</th>\n",
       "      <td>MegaFake_11495</td>\n",
       "      <td>MegaFake</td>\n",
       "      <td>style based</td>\n",
       "      <td>hours after the report was published to expres...</td>\n",
       "      <td>hours after the report was published to expres...</td>\n",
       "      <td>2</td>\n",
       "      <td>False</td>\n",
       "      <td>0</td>\n",
       "      <td>1</td>\n",
       "    </tr>\n",
       "    <tr>\n",
       "      <th>...</th>\n",
       "      <td>...</td>\n",
       "      <td>...</td>\n",
       "      <td>...</td>\n",
       "      <td>...</td>\n",
       "      <td>...</td>\n",
       "      <td>...</td>\n",
       "      <td>...</td>\n",
       "      <td>...</td>\n",
       "      <td>...</td>\n",
       "    </tr>\n",
       "    <tr>\n",
       "      <th>54011</th>\n",
       "      <td>MegaFake_94170</td>\n",
       "      <td>MegaFake</td>\n",
       "      <td>content based</td>\n",
       "      <td>or is Chyna to blame? Or could both be at fault?</td>\n",
       "      <td>or is chyna to blame or could both be at fault</td>\n",
       "      <td>5</td>\n",
       "      <td>False</td>\n",
       "      <td>0</td>\n",
       "      <td>1</td>\n",
       "    </tr>\n",
       "    <tr>\n",
       "      <th>54012</th>\n",
       "      <td>MegaFake_140128</td>\n",
       "      <td>MegaFake</td>\n",
       "      <td>integration based</td>\n",
       "      <td>the Kennedy compound in Massachusetts, accordi...</td>\n",
       "      <td>the kennedy compound in massachusetts accordin...</td>\n",
       "      <td>3</td>\n",
       "      <td>False</td>\n",
       "      <td>0</td>\n",
       "      <td>1</td>\n",
       "    </tr>\n",
       "    <tr>\n",
       "      <th>54013</th>\n",
       "      <td>MegaFake_193411</td>\n",
       "      <td>MegaFake</td>\n",
       "      <td>story based</td>\n",
       "      <td>several other films and TV shows, including 'G...</td>\n",
       "      <td>several other films and tv shows including gil...</td>\n",
       "      <td>5</td>\n",
       "      <td>False</td>\n",
       "      <td>0</td>\n",
       "      <td>1</td>\n",
       "    </tr>\n",
       "    <tr>\n",
       "      <th>54015</th>\n",
       "      <td>MegaFake_28210</td>\n",
       "      <td>MegaFake</td>\n",
       "      <td>style based</td>\n",
       "      <td>\"Get Ready for the Wildest Season Yet of The R...</td>\n",
       "      <td>get ready for the wildest season yet of the re...</td>\n",
       "      <td>1</td>\n",
       "      <td>False</td>\n",
       "      <td>0</td>\n",
       "      <td>1</td>\n",
       "    </tr>\n",
       "    <tr>\n",
       "      <th>54018</th>\n",
       "      <td>MegaFake_98394</td>\n",
       "      <td>MegaFake</td>\n",
       "      <td>content based</td>\n",
       "      <td>Diana, Princess of Wales, bears the surname Mo...</td>\n",
       "      <td>diana princess of wales bears the surname moun...</td>\n",
       "      <td>5</td>\n",
       "      <td>False</td>\n",
       "      <td>0</td>\n",
       "      <td>1</td>\n",
       "    </tr>\n",
       "  </tbody>\n",
       "</table>\n",
       "<p>203530 rows × 9 columns</p>\n",
       "</div>"
      ],
      "text/plain": [
       "                    id   dataset generation_technique  \\\n",
       "0       MegaFake_25258  MegaFake          style based   \n",
       "3      MegaFake_150633  MegaFake          story based   \n",
       "4       MegaFake_62305  MegaFake          style based   \n",
       "5       MegaFake_39737  MegaFake          style based   \n",
       "6       MegaFake_11495  MegaFake          style based   \n",
       "...                ...       ...                  ...   \n",
       "54011   MegaFake_94170  MegaFake        content based   \n",
       "54012  MegaFake_140128  MegaFake    integration based   \n",
       "54013  MegaFake_193411  MegaFake          story based   \n",
       "54015   MegaFake_28210  MegaFake          style based   \n",
       "54018   MegaFake_98394  MegaFake        content based   \n",
       "\n",
       "                                                    text  \\\n",
       "0      secret tickle-fetish sleeper cells. What we lo...   \n",
       "3      Selena Gomez is known for her stunning glow, a...   \n",
       "4      have happened at the end of the season, for va...   \n",
       "5      a crucial part of the series since its incepti...   \n",
       "6      hours after the report was published to expres...   \n",
       "...                                                  ...   \n",
       "54011   or is Chyna to blame? Or could both be at fault?   \n",
       "54012  the Kennedy compound in Massachusetts, accordi...   \n",
       "54013  several other films and TV shows, including 'G...   \n",
       "54015  \"Get Ready for the Wildest Season Yet of The R...   \n",
       "54018  Diana, Princess of Wales, bears the surname Mo...   \n",
       "\n",
       "                                              text_clean  chunk_id  title  \\\n",
       "0      secret ticklefetish sleeper cells what we love...        19  False   \n",
       "3      selena gomez is known for her stunning glow an...         1  False   \n",
       "4      have happened at the end of the season for var...         3  False   \n",
       "5      a crucial part of the series since its incepti...         2  False   \n",
       "6      hours after the report was published to expres...         2  False   \n",
       "...                                                  ...       ...    ...   \n",
       "54011     or is chyna to blame or could both be at fault         5  False   \n",
       "54012  the kennedy compound in massachusetts accordin...         3  False   \n",
       "54013  several other films and tv shows including gil...         5  False   \n",
       "54015  get ready for the wildest season yet of the re...         1  False   \n",
       "54018  diana princess of wales bears the surname moun...         5  False   \n",
       "\n",
       "       binary_label  Human_vs_AI  \n",
       "0                 0            1  \n",
       "3                 0            1  \n",
       "4                 0            1  \n",
       "5                 0            1  \n",
       "6                 0            1  \n",
       "...             ...          ...  \n",
       "54011             0            1  \n",
       "54012             0            1  \n",
       "54013             0            1  \n",
       "54015             0            1  \n",
       "54018             0            1  \n",
       "\n",
       "[203530 rows x 9 columns]"
      ]
     },
     "execution_count": 5,
     "metadata": {},
     "output_type": "execute_result"
    }
   ],
   "source": [
    "megafake"
   ]
  },
  {
   "cell_type": "code",
   "execution_count": 6,
   "id": "4745d389",
   "metadata": {},
   "outputs": [
    {
     "data": {
      "text/plain": [
       "203530"
      ]
     },
     "execution_count": 6,
     "metadata": {},
     "output_type": "execute_result"
    }
   ],
   "source": [
    "len(megafake)\n"
   ]
  },
  {
   "cell_type": "code",
   "execution_count": 13,
   "id": "a1a078df",
   "metadata": {},
   "outputs": [],
   "source": [
    "\n",
    "X_test = megafake['text'].values  \n",
    "y_test = {\n",
    "    'Fake_News_Output': megafake['binary_label'].values,\n",
    "    'Human_vs_AI': megafake['Human_vs_AI'].values\n",
    "} \n"
   ]
  },
  {
   "cell_type": "code",
   "execution_count": 14,
   "id": "93fe6ae6",
   "metadata": {},
   "outputs": [],
   "source": [
    "X_test = [str(x) for x in X_test]"
   ]
  },
  {
   "cell_type": "code",
   "execution_count": null,
   "id": "078fe6f5",
   "metadata": {},
   "outputs": [
    {
     "name": "stderr",
     "output_type": "stream",
     "text": [
      "c:\\Users\\makri\\.conda\\envs\\tf\\lib\\site-packages\\huggingface_hub\\file_download.py:797: FutureWarning: `resume_download` is deprecated and will be removed in version 1.0.0. Downloads always resume when possible. If you want to force a new download, use `force_download=True`.\n",
      "  warnings.warn(\n"
     ]
    }
   ],
   "source": [
    "# Tokenization\n",
    "\n",
    "tokenizer = BertTokenizer.from_pretrained('bert-base-uncased')\n",
    "\n",
    "test_encodings = tokenizer(X_test, truncation=True, padding = 'max_length',max_length=60, return_tensors=\"tf\")\n",
    "\n"
   ]
  },
  {
   "cell_type": "code",
   "execution_count": 16,
   "id": "8ed56ae2",
   "metadata": {},
   "outputs": [
    {
     "name": "stdout",
     "output_type": "stream",
     "text": [
      "6361/6361 [==============================] - 549s 86ms/step\n",
      "              precision    recall  f1-score   support\n",
      "\n",
      "           0       0.89      1.00      0.94    181441\n",
      "           1       0.00      0.00      0.00     22089\n",
      "\n",
      "    accuracy                           0.89    203530\n",
      "   macro avg       0.45      0.50      0.47    203530\n",
      "weighted avg       0.79      0.89      0.84    203530\n",
      "\n",
      "              precision    recall  f1-score   support\n",
      "\n",
      "           0       0.00      0.00      0.00     32769\n",
      "           1       0.84      1.00      0.91    170761\n",
      "\n",
      "    accuracy                           0.84    203530\n",
      "   macro avg       0.42      0.50      0.46    203530\n",
      "weighted avg       0.70      0.84      0.77    203530\n",
      "\n"
     ]
    },
    {
     "name": "stderr",
     "output_type": "stream",
     "text": [
      "c:\\Users\\makri\\.conda\\envs\\tf\\lib\\site-packages\\sklearn\\metrics\\_classification.py:1565: UndefinedMetricWarning: Precision is ill-defined and being set to 0.0 in labels with no predicted samples. Use `zero_division` parameter to control this behavior.\n",
      "  _warn_prf(average, modifier, f\"{metric.capitalize()} is\", len(result))\n",
      "c:\\Users\\makri\\.conda\\envs\\tf\\lib\\site-packages\\sklearn\\metrics\\_classification.py:1565: UndefinedMetricWarning: Precision is ill-defined and being set to 0.0 in labels with no predicted samples. Use `zero_division` parameter to control this behavior.\n",
      "  _warn_prf(average, modifier, f\"{metric.capitalize()} is\", len(result))\n",
      "c:\\Users\\makri\\.conda\\envs\\tf\\lib\\site-packages\\sklearn\\metrics\\_classification.py:1565: UndefinedMetricWarning: Precision is ill-defined and being set to 0.0 in labels with no predicted samples. Use `zero_division` parameter to control this behavior.\n",
      "  _warn_prf(average, modifier, f\"{metric.capitalize()} is\", len(result))\n",
      "c:\\Users\\makri\\.conda\\envs\\tf\\lib\\site-packages\\sklearn\\metrics\\_classification.py:1565: UndefinedMetricWarning: Precision is ill-defined and being set to 0.0 in labels with no predicted samples. Use `zero_division` parameter to control this behavior.\n",
      "  _warn_prf(average, modifier, f\"{metric.capitalize()} is\", len(result))\n",
      "c:\\Users\\makri\\.conda\\envs\\tf\\lib\\site-packages\\sklearn\\metrics\\_classification.py:1565: UndefinedMetricWarning: Precision is ill-defined and being set to 0.0 in labels with no predicted samples. Use `zero_division` parameter to control this behavior.\n",
      "  _warn_prf(average, modifier, f\"{metric.capitalize()} is\", len(result))\n",
      "c:\\Users\\makri\\.conda\\envs\\tf\\lib\\site-packages\\sklearn\\metrics\\_classification.py:1565: UndefinedMetricWarning: Precision is ill-defined and being set to 0.0 in labels with no predicted samples. Use `zero_division` parameter to control this behavior.\n",
      "  _warn_prf(average, modifier, f\"{metric.capitalize()} is\", len(result))\n"
     ]
    }
   ],
   "source": [
    "# # Prepare dataset\n",
    "inputs_test = {\n",
    "    'input_word_ids': test_encodings['input_ids'],\n",
    "    'input_mask': test_encodings['attention_mask'],\n",
    "    'input_type_ids': test_encodings['token_type_ids']\n",
    "}\n",
    "\n",
    "# Predictions fake news\n",
    "predictions = model.predict(dict(inputs_test))\n",
    "\n",
    "threshold = 0.5\n",
    "preds = (predictions[0]>threshold).astype(int)\n",
    "print(classification_report(preds,y_test['Fake_News_Output']))\n",
    "\n",
    "\n",
    "# Predictions Human-vs-AI\n",
    "preds_new = (predictions[1]>threshold).astype(int)\n",
    "print(classification_report(preds_new,y_test['Human_vs_AI']))\n"
   ]
  },
  {
   "cell_type": "code",
   "execution_count": null,
   "id": "79fa5948",
   "metadata": {},
   "outputs": [
    {
     "data": {
      "text/plain": [
       "preds\n",
       "0    181441\n",
       "1     22089\n",
       "Name: count, dtype: int64"
      ]
     },
     "metadata": {},
     "output_type": "display_data"
    },
    {
     "name": "stdout",
     "output_type": "stream",
     "text": [
      "generation_technique\n",
      "content based        0.803237\n",
      "integration based    0.875458\n",
      "story based          0.986189\n",
      "style based          0.904327\n",
      "dtype: float64\n"
     ]
    },
    {
     "data": {
      "text/plain": [
       "preds\n",
       "1    170761\n",
       "0     32769\n",
       "Name: count, dtype: int64"
      ]
     },
     "metadata": {},
     "output_type": "display_data"
    },
    {
     "name": "stdout",
     "output_type": "stream",
     "text": [
      "generation_technique\n",
      "content based        0.707968\n",
      "integration based    0.818645\n",
      "story based          0.976293\n",
      "style based          0.860159\n",
      "dtype: float64\n"
     ]
    }
   ],
   "source": [
    "# Per 'generation technique' accuracy (Fake News Detection)\n",
    "preds_new_new = pd.DataFrame(preds,index=megafake.index)\n",
    "concat = pd.concat([megafake,preds_new_new],axis=1)\n",
    "\n",
    "concat.columns.values[-1] = 'preds'\n",
    "\n",
    "display(concat['preds'].value_counts())\n",
    "\n",
    "accuracy_df = (concat['preds'] == concat['binary_label']).groupby(concat['generation_technique']).mean()\n",
    "\n",
    "print(accuracy_df)\n",
    "\n",
    "\n",
    "# Per 'generation technique'  accuracy (Human_vs_AI)\n",
    "preds_new_new = pd.DataFrame(preds_new,index=megafake.index)\n",
    "concat = pd.concat([megafake,preds_new_new],axis=1)\n",
    "\n",
    "concat.columns.values[-1] = 'preds'\n",
    "\n",
    "display(concat['preds'].value_counts())\n",
    "\n",
    "accuracy_df = (concat['preds'] == concat['Human_vs_AI']).groupby(concat['generation_technique']).mean()\n",
    "\n",
    "print(accuracy_df)\n",
    "\n",
    "\n"
   ]
  }
 ],
 "metadata": {
  "kernelspec": {
   "display_name": "Python 3",
   "language": "python",
   "name": "python3"
  },
  "language_info": {
   "codemirror_mode": {
    "name": "ipython",
    "version": 3
   },
   "file_extension": ".py",
   "mimetype": "text/x-python",
   "name": "python",
   "nbconvert_exporter": "python",
   "pygments_lexer": "ipython3",
   "version": "3.9.21"
  }
 },
 "nbformat": 4,
 "nbformat_minor": 5
}
